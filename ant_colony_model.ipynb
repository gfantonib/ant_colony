{
 "cells": [
  {
   "cell_type": "code",
   "execution_count": 4,
   "id": "505474b3",
   "metadata": {},
   "outputs": [],
   "source": [
    "from src.ant_colony_model.ant_colony_model import AntColonyModel\n",
    "from src.ant_colony_model.utils import eject_object, random_points\n"
   ]
  },
  {
   "cell_type": "code",
   "execution_count": 5,
   "id": "defc92d9",
   "metadata": {},
   "outputs": [],
   "source": [
    "points = random_points(4, 5)\n",
    "model = AntColonyModel(points)\n",
    "first_trail, last_trail, collection_of_ants_trails = model.run()\n",
    "eject_object(first_trail, \"_first_trail\")\n",
    "eject_object(last_trail, \"_last_trail\")\n",
    "eject_object(collection_of_ants_trails, \"_collection_of_ants_trails\")"
   ]
  }
 ],
 "metadata": {
  "kernelspec": {
   "display_name": ".venv",
   "language": "python",
   "name": "python3"
  },
  "language_info": {
   "codemirror_mode": {
    "name": "ipython",
    "version": 3
   },
   "file_extension": ".py",
   "mimetype": "text/x-python",
   "name": "python",
   "nbconvert_exporter": "python",
   "pygments_lexer": "ipython3",
   "version": "3.11.12"
  }
 },
 "nbformat": 4,
 "nbformat_minor": 5
}
