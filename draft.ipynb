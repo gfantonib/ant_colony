{
 "cells": [
  {
   "cell_type": "code",
   "execution_count": 3,
   "id": "64066d22",
   "metadata": {},
   "outputs": [],
   "source": [
    "import pandas as pd\n",
    "import numpy as np\n",
    "from pydantic import BaseModel, confloat\n",
    "from typing import List, Tuple"
   ]
  },
  {
   "cell_type": "code",
   "execution_count": 4,
   "id": "0c0d9d01",
   "metadata": {},
   "outputs": [],
   "source": [
    "class AntColonyModelInput(BaseModel):\n",
    "    points: List[Tuple[float, float]]\n",
    "\n",
    "class AntColonyModelOutput(BaseModel):\n",
    "    path: List[Tuple[float, float]]\n",
    "    distance: float"
   ]
  },
  {
   "cell_type": "code",
   "execution_count": 5,
   "id": "2d1c3c24",
   "metadata": {},
   "outputs": [],
   "source": [
    "class AntColonyModelParams(BaseModel):\n",
    "    alpha: float = 3.0\n",
    "    beta: float = 2.0\n",
    "    evaporation_rate: confloat(gt=0, lt=1) = 0.5\n",
    "    initial_pheromone: float = 1.0    "
   ]
  },
  {
   "cell_type": "code",
   "execution_count": 6,
   "id": "6213c299",
   "metadata": {},
   "outputs": [],
   "source": [
    "class AntTrail(BaseModel):\n",
    "    ant_trail_points: List[Tuple[float, float]]\n",
    "    distance: float\n",
    "\n",
    "class AntsTrails(BaseModel):\n",
    "    trails: List[AntTrail]"
   ]
  },
  {
   "cell_type": "code",
   "execution_count": 110,
   "id": "1c256723",
   "metadata": {},
   "outputs": [],
   "source": [
    "class AntColonyModel:\n",
    "    def __init__(self, input: AntColonyModelInput):\n",
    "        self.model_params = AntColonyModelParams()\n",
    "        self.points: List[Tuple[float, float]] = input.points\n",
    "        self.n_points = len(self.points)\n",
    "        self.distance_matrix = self._build_distance_matrix()\n",
    "        self.mutable_pheromone_matrix = np.full((self.n_points, self.n_points), fill_value=self.model_params.initial_pheromone)\n",
    "\n",
    "    def _build_distance_matrix(self) -> np.ndarray:\n",
    "        points = np.array(self.points)\n",
    "        print(points)\n",
    "        matrix = np.zeros((self.n_points, self.n_points))\n",
    "\n",
    "        for i in range(self.n_points):\n",
    "            for j in range(self.n_points):\n",
    "                if i != j:\n",
    "                    matrix[i, j] = np.linalg.norm(points[i] - points[j])\n",
    "        \n",
    "        return matrix\n",
    "\n",
    "    def _get_path_probability(self, distance: float, pheromone: float, pheromone_density: float) -> float:\n",
    "        individual_pheromone_density = np.power(pheromone, self.model_params.alpha) / np.power(distance, self.model_params.beta)\n",
    "        probability = individual_pheromone_density / pheromone_density\n",
    "        return probability\n",
    "\n",
    "    def _get_pheromone_density_list(self, distance_matrix: np.ndarray) -> float:\n",
    "        values = []\n",
    "        for i in range(self.n_points):\n",
    "            value = 0\n",
    "            for j in range(self.n_points):\n",
    "                if i != j:\n",
    "                    value += np.power(self.mutable_pheromone_matrix[i, j], self.model_params.alpha) / np.power(distance_matrix[i, j], self.model_params.beta)\n",
    "            values.append(value)\n",
    "\n",
    "        return values\n",
    "\n",
    "\n",
    "    def _build_probability_matrix(self, distance_matrix: np.ndarray) -> np.ndarray:\n",
    "        matrix = np.zeros((self.n_points, self.n_points))\n",
    "        pheromone_density_list = self._get_pheromone_density_list(distance_matrix)\n",
    "        for i in range(self.n_points):\n",
    "            pheromone_density = pheromone_density_list[i]\n",
    "            for j in range(self.n_points):\n",
    "                if i != j:\n",
    "                    distance = distance_matrix[i, j]\n",
    "                    pheromone = self.mutable_pheromone_matrix[i, j]\n",
    "                    matrix[i, j] = self._get_path_probability(distance, pheromone, pheromone_density)\n",
    "        \n",
    "        return matrix\n",
    "\n",
    "    def _get_tail_points(self, chosen_order: List[int]) -> List[Tuple[float, float]]:\n",
    "        points = []\n",
    "        for i in chosen_order:\n",
    "            points.append(self.points[i])\n",
    "        return points\n",
    "\n",
    "    def _get_trail(self, ant_probable_trail: np.ndarray) -> List[int]:\n",
    "        valid_indices = np.where(ant_probable_trail > 0)[0]\n",
    "        valid_probs = ant_probable_trail[valid_indices].astype(float)\n",
    "\n",
    "        chosen_order = []\n",
    "        while len(valid_indices) > 0:\n",
    "            valid_probs = valid_probs / valid_probs.sum()\n",
    "            idx = np.random.choice(len(valid_indices), p=valid_probs)\n",
    "            chosen_order.append(valid_indices[idx])\n",
    "\n",
    "            valid_indices = np.delete(valid_indices, idx)\n",
    "            valid_probs = np.delete(valid_probs, idx)\n",
    "\n",
    "        return chosen_order\n",
    "\n",
    "           \n",
    "    def _get_distance(self, ant_trail_distances: np.ndarray, ant_trail: List[int]) -> float:\n",
    "        distance = 0\n",
    "        for i in range(len(ant_trail)):\n",
    "            distance += ant_trail_distances[ant_trail[i]]\n",
    "        return distance\n",
    "\n",
    "    def _get_ants_trails(self, probability_matrix: np.ndarray) -> AntsTrails:\n",
    "        trails = []\n",
    "        for i in range(self.n_points):\n",
    "            ant_probable_trail = probability_matrix[i]\n",
    "            ant_trail = self._get_trail(ant_probable_trail)\n",
    "            ant_trail_points = self._get_tail_points(ant_trail)\n",
    "            ant_trail_distances = self.distance_matrix[i]\n",
    "            distance = self._get_distance(ant_trail_distances, ant_trail)\n",
    "            trails.append(AntTrail(ant_trail_points=ant_trail_points, distance=distance))\n",
    "        return AntsTrails(trails=trails)\n",
    "\n",
    "    def run(self):\n",
    "        probability_matrix = self._build_probability_matrix(self.distance_matrix)\n",
    "        ants_trails: AntsTrails = self._get_ants_trails(probability_matrix)\n",
    "\n",
    "        return ants_trails\n",
    "        "
   ]
  },
  {
   "cell_type": "code",
   "execution_count": 111,
   "id": "e52e3baf",
   "metadata": {},
   "outputs": [
    {
     "name": "stdout",
     "output_type": "stream",
     "text": [
      "[[2. 5.]\n",
      " [4. 3.]\n",
      " [6. 8.]\n",
      " [1. 2.]]\n",
      "trails=[AntTrail(ant_trail_points=[(6.0, 8.0), (4.0, 3.0), (1.0, 2.0)], distance=10.99070478491457), AntTrail(ant_trail_points=[(1.0, 2.0), (2.0, 5.0), (6.0, 8.0)], distance=11.375869592049074), AntTrail(ant_trail_points=[(4.0, 3.0), (2.0, 5.0), (1.0, 2.0)], distance=18.19541448304116), AntTrail(ant_trail_points=[(2.0, 5.0), (4.0, 3.0), (6.0, 8.0)], distance=14.134804996243414)]\n"
     ]
    }
   ],
   "source": [
    "points = [(2, 5), (4, 3), (6, 8), (1, 2)]\n",
    "input = AntColonyModelInput(points=points)\n",
    "\n",
    "model = AntColonyModel(input=input)\n",
    "\n",
    "result = model.run()\n",
    "print(result)"
   ]
  },
  {
   "cell_type": "code",
   "execution_count": 9,
   "id": "15b3d621",
   "metadata": {},
   "outputs": [
    {
     "name": "stdout",
     "output_type": "stream",
     "text": [
      "3.1622776601683795\n",
      "7.810249675906654\n"
     ]
    }
   ],
   "source": [
    "point1 = np.array((2, 5))\n",
    "point2 = np.array((4, 3))\n",
    "point3 = np.array((6, 8))\n",
    "point4 = np.array((1, 2))\n",
    "\n",
    "distance1 = np.linalg.norm(point2 - point4)\n",
    "print(distance1)\n",
    "distance2 = np.linalg.norm(point4 - point3)\n",
    "print(distance2)"
   ]
  },
  {
   "cell_type": "code",
   "execution_count": 84,
   "id": "c3e0e251",
   "metadata": {},
   "outputs": [
    {
     "name": "stdout",
     "output_type": "stream",
     "text": [
      "Chosen order: [np.int64(1), np.int64(4), np.int64(3)]\n"
     ]
    }
   ],
   "source": [
    "import numpy as np\n",
    "\n",
    "probs = np.array([0.0, 0.47169811, 0.0, 0.1509434, 0.37735849])\n",
    "\n",
    "# Get valid indices (skip zeros)\n",
    "valid_indices = np.where(probs > 0)[0]\n",
    "valid_probs = probs[valid_indices].astype(float)\n",
    "\n",
    "chosen_order = []\n",
    "\n",
    "while len(valid_indices) > 0:\n",
    "    # Normalize current probabilities\n",
    "    valid_probs = valid_probs / valid_probs.sum()\n",
    "    \n",
    "    # Pick one index according to probabilities\n",
    "    idx = np.random.choice(len(valid_indices), p=valid_probs)\n",
    "    \n",
    "    # Save the original index\n",
    "    chosen_order.append(valid_indices[idx])\n",
    "    \n",
    "    # Remove the chosen one\n",
    "    valid_indices = np.delete(valid_indices, idx)\n",
    "    valid_probs = np.delete(valid_probs, idx)\n",
    "\n",
    "print(\"Chosen order:\", chosen_order)\n"
   ]
  },
  {
   "cell_type": "code",
   "execution_count": 90,
   "id": "12853fc4",
   "metadata": {},
   "outputs": [
    {
     "name": "stdout",
     "output_type": "stream",
     "text": [
      "0\n",
      "1\n"
     ]
    }
   ],
   "source": [
    "for i in range(3 - 1):\n",
    "    print(i)"
   ]
  }
 ],
 "metadata": {
  "kernelspec": {
   "display_name": ".venv",
   "language": "python",
   "name": "python3"
  },
  "language_info": {
   "codemirror_mode": {
    "name": "ipython",
    "version": 3
   },
   "file_extension": ".py",
   "mimetype": "text/x-python",
   "name": "python",
   "nbconvert_exporter": "python",
   "pygments_lexer": "ipython3",
   "version": "3.11.12"
  }
 },
 "nbformat": 4,
 "nbformat_minor": 5
}
